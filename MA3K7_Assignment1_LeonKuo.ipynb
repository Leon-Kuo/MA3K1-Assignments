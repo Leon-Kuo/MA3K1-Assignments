{
 "cells": [
  {
   "cell_type": "code",
   "execution_count": 1,
   "metadata": {},
   "outputs": [],
   "source": [
    "# Generates the next connector in the sequence\n",
    "# current_connector: a two-digit-formatted string representing the current connector\n",
    "# Returns the next connector as a two-digit-formatted string\n",
    "def Next_Connector(current_connector):\n",
    "    return current_connector[1] + f\"{(int(current_connector[0]) + int(current_connector[1])) % 10 :01d}\""
   ]
  },
  {
   "cell_type": "markdown",
   "metadata": {},
   "source": [
    "### Step 1"
   ]
  },
  {
   "cell_type": "code",
   "execution_count": 2,
   "metadata": {},
   "outputs": [],
   "source": [
    "bracelets = []  # List to store all generated bracelets\n",
    "connectors = [f\"{i:02d}\" for i in range(100)]   # List of all possible two-digit connectors"
   ]
  },
  {
   "cell_type": "markdown",
   "metadata": {},
   "source": [
    "### Steps 2~4"
   ]
  },
  {
   "cell_type": "code",
   "execution_count": 3,
   "metadata": {},
   "outputs": [],
   "source": [
    "# Continue until all connectors are used\n",
    "while connectors:\n",
    "    # Start a new bracelet with the first available connector\n",
    "    # and remove that connector from the available list\n",
    "    bracelet = [connectors.pop(0)]\n",
    "    \n",
    "    # Loop to grow the bracelet\n",
    "    while True:\n",
    "        # Calculate the next connector based on the last one in the bracelet\n",
    "        next_connector = Next_Connector(bracelet[-1])\n",
    "        \n",
    "        # Check if the next connector is still available\n",
    "        if next_connector in connectors:\n",
    "            # Add the next connector to the bracelet\n",
    "            # and remove it from the list of available connectors\n",
    "            bracelet.append(connectors.pop(connectors.index(next_connector)))\n",
    "        else:\n",
    "            # No more connectors available, so finish this bracelet\n",
    "            break\n",
    "\n",
    "    # Add the completed bracelet to the list of bracelets\n",
    "    bracelets.append(bracelet)"
   ]
  },
  {
   "cell_type": "markdown",
   "metadata": {},
   "source": [
    "### Results"
   ]
  },
  {
   "cell_type": "code",
   "execution_count": 4,
   "metadata": {},
   "outputs": [
    {
     "name": "stdout",
     "output_type": "stream",
     "text": [
      "The total number of different bracelets is 6. \n",
      "\n",
      "The lengths of the bracelets are:\n",
      "1 60 20 3 12 4\n",
      "\n",
      "Here are the 6 bracelets in their connector representation (each showing 1 cycle):\n",
      "00\n",
      "01 11 12 23 35 58 83 31 14 45 59 94 43 37 70 07 77 74 41 15 56 61 17 78 85 53 38 81 19 90 09 99 98 87 75 52 27 79 96 65 51 16 67 73 30 03 33 36 69 95 54 49 93 32 25 57 72 29 91 10\n",
      "02 22 24 46 60 06 66 62 28 80 08 88 86 64 40 04 44 48 82 20\n",
      "05 55 50\n",
      "13 34 47 71 18 89 97 76 63 39 92 21\n",
      "26 68 84 42\n",
      "\n",
      "Here are the 6 bracelets in their default representation (each showing 1 cycle):\n",
      "0\n",
      "0 -> 1 -> 1 -> 2 -> 3 -> 5 -> 8 -> 3 -> 1 -> 4 -> 5 -> 9 -> 4 -> 3 -> 7 -> 0 -> 7 -> 7 -> 4 -> 1 -> 5 -> 6 -> 1 -> 7 -> 8 -> 5 -> 3 -> 8 -> 1 -> 9 -> 0 -> 9 -> 9 -> 8 -> 7 -> 5 -> 2 -> 7 -> 9 -> 6 -> 5 -> 1 -> 6 -> 7 -> 3 -> 0 -> 3 -> 3 -> 6 -> 9 -> 5 -> 4 -> 9 -> 3 -> 2 -> 5 -> 7 -> 2 -> 9 -> 1\n",
      "0 -> 2 -> 2 -> 4 -> 6 -> 0 -> 6 -> 6 -> 2 -> 8 -> 0 -> 8 -> 8 -> 6 -> 4 -> 0 -> 4 -> 4 -> 8 -> 2\n",
      "0 -> 5 -> 5\n",
      "1 -> 3 -> 4 -> 7 -> 1 -> 8 -> 9 -> 7 -> 6 -> 3 -> 9 -> 2\n",
      "2 -> 6 -> 8 -> 4\n"
     ]
    }
   ],
   "source": [
    "print(f\"The total number of different bracelets is {len(bracelets)}. \\n\")\n",
    "\n",
    "print(\"The lengths of the bracelets are:\")\n",
    "lengths = [str(len(bracelet)) for bracelet in bracelets]\n",
    "print(' '.join(lengths))\n",
    "\n",
    "print(f\"\\nHere are the {len(bracelets)} bracelets in their connector representation (each showing 1 cycle):\")\n",
    "for bracelet in bracelets:\n",
    "    print(' '.join(bracelet))\n",
    "\n",
    "print(f\"\\nHere are the {len(bracelets)} bracelets in their default representation (each showing 1 cycle):\")\n",
    "for bracelet in bracelets:\n",
    "    first_digits = [connector[0] for connector in bracelet]\n",
    "    print(' -> '.join(first_digits))\n"
   ]
  }
 ],
 "metadata": {
  "kernelspec": {
   "display_name": "Python 3",
   "language": "python",
   "name": "python3"
  },
  "language_info": {
   "codemirror_mode": {
    "name": "ipython",
    "version": 3
   },
   "file_extension": ".py",
   "mimetype": "text/x-python",
   "name": "python",
   "nbconvert_exporter": "python",
   "pygments_lexer": "ipython3",
   "version": "3.11.7"
  }
 },
 "nbformat": 4,
 "nbformat_minor": 2
}
